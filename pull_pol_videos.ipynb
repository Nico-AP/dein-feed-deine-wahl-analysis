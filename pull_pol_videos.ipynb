{
 "cells": [
  {
   "cell_type": "code",
   "execution_count": 1,
   "metadata": {},
   "outputs": [
    {
     "name": "stderr",
     "output_type": "stream",
     "text": [
      "/Users/lion.wedel/gitProjects/datadonation-wi-monitoring/.venv/lib/python3.9/site-packages/urllib3/__init__.py:35: NotOpenSSLWarning: urllib3 v2 only supports OpenSSL 1.1.1+, currently the 'ssl' module is compiled with 'LibreSSL 2.8.3'. See: https://github.com/urllib3/urllib3/issues/3020\n",
      "  warnings.warn(\n"
     ]
    },
    {
     "name": "stdout",
     "output_type": "stream",
     "text": [
      "https://dein-feed-deine-wahl.de/scraper/api/videos\n"
     ]
    }
   ],
   "source": [
    "import os\n",
    "import json\n",
    "import requests\n",
    "from tqdm import tqdm\n",
    "from dotenv import load_dotenv\n",
    "import pandas as pd\n",
    "import time\n",
    " \n",
    "load_dotenv()\n",
    "POLVIDEOS_ENDPOINT = os.getenv('POLVIDEOS_ENDPOINT', None)\n",
    "AUTH_TOKEN = os.getenv('AUTH_TOKEN', None)\n",
    "print(POLVIDEOS_ENDPOINT)"
   ]
  },
  {
   "cell_type": "code",
   "execution_count": 2,
   "metadata": {},
   "outputs": [],
   "source": [
    "from tqdm import tqdm\n",
    "\n",
    "def get_pol_videos(date=None, username=None):\n",
    "    headers = {\n",
    "        'Authorization': f'Token {AUTH_TOKEN}',\n",
    "        'Content-Type': 'application/json'\n",
    "    }\n",
    "\n",
    "    all_results = []\n",
    "    \n",
    "    # Set initial URL based on parameters\n",
    "    if date:\n",
    "        url = f\"{POLVIDEOS_ENDPOINT}?date={date}\"\n",
    "    elif username:\n",
    "        url = f\"{POLVIDEOS_ENDPOINT}?username={username}\"\n",
    "    else:\n",
    "        url = POLVIDEOS_ENDPOINT\n",
    "\n",
    "    # Get first response to get total count\n",
    "    response = requests.get(url, headers=headers)\n",
    "    if response.status_code != 200:\n",
    "        print(f\"Error: {response.status_code}\")\n",
    "        return []\n",
    "        \n",
    "    data = response.json()\n",
    "    total_records = data['count']\n",
    "    all_results.extend(data['results'])\n",
    "    \n",
    "    # Initialize progress bar\n",
    "    pbar = tqdm(total=total_records, desc=\"Fetching videos\", unit=\"records\")\n",
    "    pbar.update(len(data['results']))\n",
    "    \n",
    "    # Continue with pagination\n",
    "    url = data['next']\n",
    "    while url:\n",
    "        response = requests.get(url, headers=headers)\n",
    "        \n",
    "        if response.status_code != 200:\n",
    "            print(f\"\\nError: {response.status_code}\")\n",
    "            break\n",
    "            \n",
    "        data = response.json()\n",
    "        all_results.extend(data['results'])\n",
    "        \n",
    "        # Update progress bar\n",
    "        pbar.update(len(data['results']))\n",
    "        \n",
    "        # Update URL for next iteration\n",
    "        url = data['next']\n",
    "        \n",
    "        # Optional: add a small delay to be nice to the API\n",
    "        time.sleep(0.5)\n",
    "\n",
    "    pbar.close()\n",
    "    print(f\"\\nTotal records fetched: {len(all_results)}\")\n",
    "    return all_results\n",
    "\n"
   ]
  },
  {
   "cell_type": "code",
   "execution_count": 3,
   "metadata": {},
   "outputs": [
    {
     "name": "stderr",
     "output_type": "stream",
     "text": [
      "Fetching videos: 100%|██████████| 445581/445581 [20:07<00:00, 368.91records/s]"
     ]
    },
    {
     "name": "stdout",
     "output_type": "stream",
     "text": [
      "\n",
      "Total records fetched: 445581\n"
     ]
    },
    {
     "name": "stderr",
     "output_type": "stream",
     "text": [
      "\n"
     ]
    }
   ],
   "source": [
    "results = get_pol_videos()"
   ]
  },
  {
   "cell_type": "code",
   "execution_count": 5,
   "metadata": {},
   "outputs": [],
   "source": [
    "df = pd.DataFrame(results)"
   ]
  },
  {
   "cell_type": "code",
   "execution_count": 7,
   "metadata": {},
   "outputs": [],
   "source": [
    "df.to_csv('data/pol_videos.csv', index=False)"
   ]
  },
  {
   "cell_type": "code",
   "execution_count": null,
   "metadata": {},
   "outputs": [],
   "source": [
    "    # Send POST request\n",
    "    try:\n",
    "        response = requests.post(API_URL, json=json_data, headers=headers)\n",
    " \n",
    "        # Check for response status\n",
    "        if response.status_code == 201:\n",
    "            print(f'Success: {response.json()}')\n",
    "        else:\n",
    "            print(f'Failed: {response.status_code} - {response.text}')\n",
    " \n",
    "    except requests.exceptions.RequestException as e:\n",
    "        print(f'Error: Failed to send request. {e}')"
   ]
  },
  {
   "cell_type": "code",
   "execution_count": null,
   "metadata": {},
   "outputs": [],
   "source": []
  },
  {
   "cell_type": "code",
   "execution_count": null,
   "metadata": {},
   "outputs": [],
   "source": [
    " \n",
    " \n",
    "def post_json_data(json_data):\n",
    "    headers = {\n",
    "        'Authorization': f'Token {AUTH_TOKEN}',\n",
    "        'Content-Type': 'application/json'\n",
    "    }\n",
    "    # Send POST request\n",
    "    try:\n",
    "        response = requests.post(API_URL, json=json_data, headers=headers)\n",
    " \n",
    "        # Check for response status\n",
    "        if response.status_code == 201:\n",
    "            print(f'Success: {response.json()}')\n",
    "        else:\n",
    "            print(f'Failed: {response.status_code} - {response.text}')\n",
    " \n",
    "    except requests.exceptions.RequestException as e:\n",
    "        print(f'Error: Failed to send request. {e}')\n",
    " \n",
    " \n",
    "# Get total number of files first\n",
    "total_files = len(list(FOLDER_PATH.glob('*.json')))\n",
    "\n",
    "# Iterate over all JSON files with progress bar\n",
    "for json_file in tqdm(FOLDER_PATH.glob('*.json'), total=total_files, desc=\"Processing JSON files\"):\n",
    "    with json_file.open('r', encoding='utf-8') as file:\n",
    "        print(f'Processing {json_file.name}:')\n",
    "        data = json.load(file)\n",
    "        json_data = json.loads(data)\n",
    "    post_json_data(json_data)\n",
    "\n",
    "    # Move json file to processed folder.\n",
    "    #os.rename(json_file, 'data/processed/' + json_file.name)\n",
    "\n",
    "    #if i == 300:\n",
    "    #    break"
   ]
  },
  {
   "cell_type": "code",
   "execution_count": null,
   "metadata": {},
   "outputs": [],
   "source": []
  },
  {
   "cell_type": "code",
   "execution_count": null,
   "metadata": {},
   "outputs": [],
   "source": []
  },
  {
   "cell_type": "code",
   "execution_count": null,
   "metadata": {},
   "outputs": [],
   "source": []
  },
  {
   "cell_type": "code",
   "execution_count": null,
   "metadata": {},
   "outputs": [],
   "source": []
  },
  {
   "cell_type": "code",
   "execution_count": null,
   "metadata": {},
   "outputs": [],
   "source": []
  },
  {
   "cell_type": "code",
   "execution_count": null,
   "metadata": {},
   "outputs": [],
   "source": []
  },
  {
   "cell_type": "code",
   "execution_count": null,
   "metadata": {},
   "outputs": [],
   "source": []
  }
 ],
 "metadata": {
  "kernelspec": {
   "display_name": ".venv",
   "language": "python",
   "name": "python3"
  },
  "language_info": {
   "codemirror_mode": {
    "name": "ipython",
    "version": 3
   },
   "file_extension": ".py",
   "mimetype": "text/x-python",
   "name": "python",
   "nbconvert_exporter": "python",
   "pygments_lexer": "ipython3",
   "version": "3.9.6"
  }
 },
 "nbformat": 4,
 "nbformat_minor": 2
}
